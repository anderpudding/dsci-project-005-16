{
 "cells": [
  {
   "cell_type": "markdown",
   "id": "29a61667-be6a-4cde-a731-e7e09c1c8b29",
   "metadata": {},
   "source": [
    "# Project Final Report"
   ]
  },
  {
   "cell_type": "code",
   "execution_count": null,
   "id": "86f28b6c-edf4-4c9b-bf09-338ceca56f57",
   "metadata": {},
   "outputs": [],
   "source": []
  }
 ],
 "metadata": {
  "kernelspec": {
   "display_name": "R",
   "language": "R",
   "name": "ir"
  },
  "language_info": {
   "codemirror_mode": "r",
   "file_extension": ".r",
   "mimetype": "text/x-r-source",
   "name": "R",
   "pygments_lexer": "r",
   "version": "4.3.3"
  }
 },
 "nbformat": 4,
 "nbformat_minor": 5
}
