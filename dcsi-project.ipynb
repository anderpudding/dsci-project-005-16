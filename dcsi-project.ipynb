{
 "cells": [
  {
   "cell_type": "markdown",
   "id": "29a61667-be6a-4cde-a731-e7e09c1c8b29",
   "metadata": {},
   "source": [
    "# DCSI Project Final Report"
   ]
  },
  {
   "cell_type": "markdown",
   "id": "4db82ba4-d1dd-4c23-b33d-832b2969c54d",
   "metadata": {},
   "source": [
    "## Introduction"
   ]
  },
  {
   "cell_type": "markdown",
   "id": "a308a21e-c114-493a-8dd6-4322c217bd91",
   "metadata": {},
   "source": [
    "- provide some relevant background information on the topic so that someone unfamiliar with it will be prepared to understand the rest of your report\n",
    "- clearly state the question you tried to answer with your project\n",
    "- identify and fully describe the dataset that was used to answer the question\n"
   ]
  },
  {
   "cell_type": "markdown",
   "id": "ff214d2f-84bf-4449-9bd9-2c1e195c87f9",
   "metadata": {},
   "source": [
    "## Methods & Results"
   ]
  },
  {
   "cell_type": "markdown",
   "id": "2b5515c0-1ef7-415b-8f56-e63ee6751907",
   "metadata": {},
   "source": [
    "- describe the methods you used to perform your analysis from beginning to end that narrates the analysis code.\n",
    "your report should include code which:\n",
    "- loads data \n",
    "- wrangles and cleans the data to the format necessary for the planned analysis\n",
    "- performs a summary of the data set that is relevant for exploratory data analysis related to the planned analysis \n",
    "- creates a visualization of the dataset that is relevant for exploratory data analysis related to the planned analysis\n",
    "- performs the data analysis\n",
    "- creates a visualization of the analysis \n",
    "- note: all figures should have a figure number and a legend\n"
   ]
  },
  {
   "cell_type": "markdown",
   "id": "3c12aef6-70bb-4797-888e-47039c962012",
   "metadata": {},
   "source": []
  }
 ],
 "metadata": {
  "kernelspec": {
   "display_name": "R",
   "language": "R",
   "name": "ir"
  },
  "language_info": {
   "codemirror_mode": "r",
   "file_extension": ".r",
   "mimetype": "text/x-r-source",
   "name": "R",
   "pygments_lexer": "r",
   "version": "4.3.3"
  }
 },
 "nbformat": 4,
 "nbformat_minor": 5
}
