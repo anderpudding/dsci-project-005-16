{
 "cells": [
  {
   "cell_type": "markdown",
   "id": "29a61667-be6a-4cde-a731-e7e09c1c8b29",
   "metadata": {},
   "source": [
    "# DCSI Project Final Report"
   ]
  },
  {
   "cell_type": "markdown",
   "id": "4db82ba4-d1dd-4c23-b33d-832b2969c54d",
   "metadata": {},
   "source": [
    "## Introduction"
   ]
  },
  {
   "cell_type": "markdown",
   "id": "a308a21e-c114-493a-8dd6-4322c217bd91",
   "metadata": {},
   "source": [
    "- provide some relevant background information on the topic so that someone unfamiliar with it will be prepared to understand the rest of your report\n",
    "- clearly state the question you tried to answer with your project\n",
    "- identify and fully describe the dataset that was used to answer the question\n"
   ]
  },
  {
   "cell_type": "markdown",
   "id": "ff214d2f-84bf-4449-9bd9-2c1e195c87f9",
   "metadata": {},
   "source": [
    "## Methods & Results"
   ]
  },
  {
   "cell_type": "markdown",
   "id": "cdeaaca7-f757-4d36-a37c-24e55628b5b1",
   "metadata": {},
   "source": [
    "#### Load and Prepare Data"
   ]
  },
  {
   "cell_type": "code",
   "execution_count": null,
   "id": "d1a9392b-1f57-480f-94a9-70465df679c7",
   "metadata": {},
   "outputs": [],
   "source": [
    "library(tidyverse)\n",
    "\n",
    "sessions <- read_csv(\"https://raw.githubusercontent.com/anderpudding/dsci-project-005-16/refs/heads/main/data/sessions.csv\")"
   ]
  },
  {
   "cell_type": "markdown",
   "id": "f7a93da5-9228-4133-a328-07af961fc932",
   "metadata": {},
   "source": [
    "#### Wrangle and Tidy Data"
   ]
  },
  {
   "cell_type": "code",
   "execution_count": null,
   "id": "adf9861a-2011-412e-9dcb-2498afa0f0ed",
   "metadata": {},
   "outputs": [],
   "source": [
    "sessions <- sessions |>\n",
    "    mutate(start_time = strptime(start_time, \"%d/%m/%Y %H:%M\"),\n",
    "        end_time = strptime(end_time, \"%d/%m/%Y %H:%M\"),\n",
    "        session_duration = as.numeric(difftime(end_time, start_time, units = \"mins\")))"
   ]
  },
  {
   "cell_type": "markdown",
   "id": "e8febae4-171a-4630-9647-f2015ad94169",
   "metadata": {},
   "source": [
    "#### Summary Statistics"
   ]
  },
  {
   "cell_type": "code",
   "execution_count": null,
   "id": "49f5bd17-71e6-467f-98f1-f87277f75533",
   "metadata": {},
   "outputs": [],
   "source": [
    "summary_stats <- sessions |>\n",
    "    summarise(mean_session_duration = mean(session_duration, na.rm = TRUE),\n",
    "        mean_players_per_hour = n() / length(unique(format(start_time, \"%H\"))))\n",
    "\n",
    "summary_stats"
   ]
  },
  {
   "cell_type": "markdown",
   "id": "1506c330-9ce5-4f54-bc3f-9cd94e4dfccb",
   "metadata": {},
   "source": [
    "#### Extract Time Features"
   ]
  },
  {
   "cell_type": "code",
   "execution_count": null,
   "id": "10fab234-c72d-4979-858f-c457ea78c26e",
   "metadata": {},
   "outputs": [],
   "source": [
    "sessions <- sessions |>\n",
    "    mutate(hour = as.numeric(format(start_time, \"%H\")),\n",
    "        day_of_week = weekdays(as.Date(start_time)))"
   ]
  },
  {
   "cell_type": "markdown",
   "id": "216ef7de-fdae-4730-8a51-0ffc34d185cc",
   "metadata": {},
   "source": [
    "#### Visualization 1: Player Activity by Hour"
   ]
  },
  {
   "cell_type": "code",
   "execution_count": null,
   "id": "6cb8d267-1a19-4d98-adca-e903d27a6171",
   "metadata": {},
   "outputs": [],
   "source": [
    "hourly_counts <- sessions |> \n",
    "    group_by(hour) |> \n",
    "    summarise(player_count = n())\n",
    "\n",
    "ggplot(hourly_counts, aes(x = hour, y = player_count)) +\n",
    "    geom_line() +\n",
    "    geom_point() +\n",
    "    labs(title = \"Figure 1: Player Activity by Hour\", x = \"Hour of Day\", y = \"Number of Sessions\")"
   ]
  },
  {
   "cell_type": "markdown",
   "id": "4a75e27d-1221-4e7d-bbde-c215f3216702",
   "metadata": {},
   "source": [
    "#### Visualization 2: Player Activity by Day of Week"
   ]
  },
  {
   "cell_type": "code",
   "execution_count": null,
   "id": "1d8b4d65-75dd-415c-b7dc-26b171a227d2",
   "metadata": {},
   "outputs": [],
   "source": [
    "daily_counts <- sessions |> \n",
    "    group_by(day_of_week) |> \n",
    "    summarise(player_count = n())\n",
    "\n",
    "ggplot(daily_counts, aes(x = day_of_week, y = player_count, fill = day_of_week)) +\n",
    "    geom_bar(stat = \"identity\") +\n",
    "    labs(title = \"Figure 2: Player Activity by Day of Week\", x = \"Day\", y = \"Number of Sessions\")"
   ]
  },
  {
   "cell_type": "code",
   "execution_count": null,
   "id": "6dd49c5f-3f57-4948-af8d-7c8b4e264253",
   "metadata": {},
   "outputs": [],
   "source": []
  }
 ],
 "metadata": {
  "kernelspec": {
   "display_name": "R",
   "language": "R",
   "name": "ir"
  },
  "language_info": {
   "codemirror_mode": "r",
   "file_extension": ".r",
   "mimetype": "text/x-r-source",
   "name": "R",
   "pygments_lexer": "r",
   "version": "4.3.3"
  }
 },
 "nbformat": 4,
 "nbformat_minor": 5
}
