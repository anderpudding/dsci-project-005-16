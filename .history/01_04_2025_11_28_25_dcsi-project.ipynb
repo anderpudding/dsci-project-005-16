{
 "cells": [
  {
   "cell_type": "markdown",
   "id": "29a61667-be6a-4cde-a731-e7e09c1c8b29",
   "metadata": {},
   "source": [
    "# DCSI Project Final Report"
   ]
  },
  {
   "cell_type": "markdown",
   "id": "4db82ba4-d1dd-4c23-b33d-832b2969c54d",
   "metadata": {},
   "source": [
    "## Introduction"
   ]
  },
  {
   "cell_type": "markdown",
   "id": "a308a21e-c114-493a-8dd6-4322c217bd91",
   "metadata": {},
   "source": [
    "- provide some relevant background information on the topic so that someone unfamiliar with it will be prepared to understand the rest of your report\n",
    "- clearly state the question you tried to answer with your project\n",
    "- identify and fully describe the dataset that was used to answer the question\n"
   ]
  },
  {
   "cell_type": "markdown",
   "id": "ff214d2f-84bf-4449-9bd9-2c1e195c87f9",
   "metadata": {},
   "source": [
    "## Methods & Results"
   ]
  },
  {
   "cell_type": "code",
   "execution_count": null,
   "id": "d1a9392b-1f57-480f-94a9-70465df679c7",
   "metadata": {},
   "outputs": [],
   "source": [
    "library(tidyverse)\n",
    "\n",
    "sessions <- read_csv(\"https://raw.githubusercontent.com/anderpudding/dsci-project-005-16/refs/heads/main/data/sessions.csv\")"
   ]
  },
  {
   "cell_type": "code",
   "execution_count": null,
   "id": "adf9861a-2011-412e-9dcb-2498afa0f0ed",
   "metadata": {},
   "outputs": [],
   "source": [
    "sessions <- sessions |>\n",
    "    mutate(start_time = strptime(start_time, \"%d/%m/%Y %H:%M\"),\n",
    "        end_time = strptime(end_time, \"%d/%m/%Y %H:%M\"),\n",
    "        session_duration = as.numeric(difftime(end_time, start_time, units = \"mins\")))"
   ]
  },
  {
   "cell_type": "code",
   "execution_count": null,
   "id": "49f5bd17-71e6-467f-98f1-f87277f75533",
   "metadata": {},
   "outputs": [],
   "source": [
    "summary_stats <- sessions |>\n",
    "    summarise(mean_session_duration = mean(session_duration, na.rm = TRUE),\n",
    "        mean_players_per_hour = n() / length(unique(format(start_time, \"%H\"))))\n",
    "\n",
    "summary_stats"
   ]
  },
  {
   "cell_type": "code",
   "execution_count": null,
   "id": "10fab234-c72d-4979-858f-c457ea78c26e",
   "metadata": {},
   "outputs": [],
   "source": []
  }
 ],
 "metadata": {
  "kernelspec": {
   "display_name": "R",
   "language": "R",
   "name": "ir"
  },
  "language_info": {
   "codemirror_mode": "r",
   "file_extension": ".r",
   "mimetype": "text/x-r-source",
   "name": "R",
   "pygments_lexer": "r",
   "version": "4.3.3"
  }
 },
 "nbformat": 4,
 "nbformat_minor": 5
}
