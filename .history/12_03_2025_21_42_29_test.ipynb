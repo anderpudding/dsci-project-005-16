{
 "cells": [
  {
   "cell_type": "code",
   "execution_count": null,
   "id": "7db6a260-b004-4d54-91b9-3d0be2858297",
   "metadata": {},
   "outputs": [],
   "source": [
    "library(tidyverse)"
   ]
  },
  {
   "cell_type": "code",
   "execution_count": null,
   "id": "e132a3db-fa01-48f6-a047-bb5c44b33a5d",
   "metadata": {},
   "outputs": [],
   "source": [
    "players <- read_csv(\"data/players.csv\")\n",
    "sessions <- read_csv(\"data/sessions.csv\")"
   ]
  },
  {
   "cell_type": "code",
   "execution_count": null,
   "id": "f53bd273-4998-4d25-bb95-cca9ce1be912",
   "metadata": {},
   "outputs": [],
   "source": [
    "glimpse(players)"
   ]
  },
  {
   "cell_type": "code",
   "execution_count": null,
   "id": "07b232a6-7ebd-4abf-8d01-0c4d40e0794f",
   "metadata": {},
   "outputs": [],
   "source": [
    "glimpse(sessions)"
   ]
  },
  {
   "cell_type": "code",
   "execution_count": null,
   "id": "aa309240-5882-4a55-a903-11d0493b51b4",
   "metadata": {},
   "outputs": [],
   "source": [
    "sessions <- sessions |>\n",
    "    mutate(start_time = dmy_hm(start_time))\n",
    "sessions <- sessions |>\n",
    "    mutate(hour = hour(start_time), day_of_week = wday(start_time))\n",
    "sessions <- drop_na(sessions, end_time)\n",
    "\n",
    "sessions"
   ]
  },
  {
   "cell_type": "code",
   "execution_count": null,
   "id": "9ef68b2d-bb89-4b4d-a68b-74f333800d4a",
   "metadata": {},
   "outputs": [],
   "source": [
    "hourly_players <- sessions |>\n",
    "    group_by(hour) |>\n",
    "    summarise(player_count = n())\n",
    "\n",
    "hourly_players"
   ]
  },
  {
   "cell_type": "code",
   "execution_count": null,
   "id": "cb0f3f11-6126-4b1a-ac08-40e91e4e4f6e",
   "metadata": {},
   "outputs": [],
   "source": [
    "ggplot(hourly_players, aes(x = hour, y = player_count)) +\n",
    "    geom_line() +\n",
    "    geom_point() +\n",
    "    labs(title = \"Player Activity by Hour\", \n",
    "         x = \"Hour of Day\", \n",
    "         y = \"Number of Players\")"
   ]
  },
  {
   "cell_type": "code",
   "execution_count": null,
   "id": "91a44e64-9e35-42d6-bd96-5d71389d102b",
   "metadata": {},
   "outputs": [],
   "source": [
    "daily_players <- sessions %>%\n",
    "  group_by(day_of_week) %>%\n",
    "  summarise(player_count = n())\n",
    "\n",
    "ggplot(daily_players, aes(x = day_of_week, y = player_count, fill = day_of_week)) +\n",
    "  geom_bar(stat = \"identity\") +\n",
    "  labs(title = \"Player Activity by Day\", x = \"Day of Week\", y = \"Number of Players\")"
   ]
  },
  {
   "cell_type": "code",
   "execution_count": null,
   "id": "1bbd12f1-ac0d-4fe2-bd03-11bac3311576",
   "metadata": {},
   "outputs": [],
   "source": []
  }
 ],
 "metadata": {
  "kernelspec": {
   "display_name": "R",
   "language": "R",
   "name": "ir"
  },
  "language_info": {
   "codemirror_mode": "r",
   "file_extension": ".r",
   "mimetype": "text/x-r-source",
   "name": "R",
   "pygments_lexer": "r",
   "version": "4.3.3"
  }
 },
 "nbformat": 4,
 "nbformat_minor": 5
}
