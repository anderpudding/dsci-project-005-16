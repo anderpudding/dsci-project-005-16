{
 "cells": [
  {
   "cell_type": "code",
   "execution_count": null,
   "id": "6e6ed26a-07e2-4e8e-a5ba-89792bd4e2b0",
   "metadata": {},
   "outputs": [],
   "source": [
    "library(tidyverse)"
   ]
  },
  {
   "cell_type": "markdown",
   "id": "b94fbbd6-bb78-4a6e-ba1f-cb91c7347183",
   "metadata": {},
   "source": [
    "\n",
    "<h2>1. Data Description</h2>\n",
    "<p>The dataset used in this project consists of two files: <code>sessions.csv</code> and <code>players.csv</code>. The focus of this report is on <code>sessions.csv</code>, which records play sessions from a video game research server.</p>\n",
    "\n",
    "<h3>Dataset Overview</h3>\n",
    "<ul>\n",
    "    <li><strong>sessions.csv</strong> (1,535 rows, 5 columns)\n",
    "        <ul>\n",
    "            <li><code>hashedEmail</code>: Unique identifier for each player.</li>\n",
    "            <li><code>start_time</code>: Timestamp indicating when a session began.</li>\n",
    "            <li><code>end_time</code>: Timestamp indicating when a session ended.</li>\n",
    "            <li><code>original_start_time</code>: Unix timestamp format of start time.</li>\n",
    "            <li><code>original_end_time</code>: Unix timestamp format of end time.</li>\n",
    "        </ul>\n",
    "    </li>\n",
    "</ul>\n",
    "\n",
    "<ul>\n",
    "    <li><strong>players.csv</strong> (196 rows, 7 columns, not the primary focus)\n",
    "        <ul>\n",
    "            <li>Contains information on player experience, subscription status, play hours, demographics.</li>\n",
    "        </ul>\n",
    "    </li>\n",
    "</ul>\n",
    "\n",
    "<h3>Potential Issues</h3>\n",
    "<ul>\n",
    "    <li>Missing Values: Some <code>end_time</code> values are missing, which could affect session duration calculations.</li>\n",
    "    <li>Timestamp Format: Dates are recorded without seconds, which may require adjustments.</li>\n",
    "    <li>Data Collection Bias: Players included in the dataset may not be representative of all gamers, impacting generalizability.</li>\n",
    "</ul>"
   ]
  },
  {
   "cell_type": "markdown",
   "id": "7e234819-a795-48b7-b606-c7ec33b90526",
   "metadata": {},
   "source": [
    "<h2>2. Research Question</h2>\n",
    "<h3>Broad Question:</h3>\n",
    "<p>How can we predict demand on the game server to optimize resources and improve user experience?</p>\n",
    "\n",
    "<h3>Specific Question:</h3>\n",
    "<p>Can we predict the peak hours of player activity using historical session data?</p>\n",
    "\n",
    "<ul>\n",
    "    <li>Response Variable: Number of active players in a given hour.</li>\n",
    "    <li>Explanatory Variable: Hour of day, day of the week.</li>\n",
    "    <li>Why This Question?: Understanding peak play hours helps with resource allocation such as server capacity or licensing.</li>\n",
    "</ul>"
   ]
  },
  {
   "cell_type": "markdown",
   "id": "6a3c0587-d774-44a0-8b1c-a32c5a6c5ad3",
   "metadata": {},
   "source": [
    "<h2>3. Exploratory Data Analysis</h2>"
   ]
  },
  {
   "cell_type": "code",
   "execution_count": null,
   "id": "17ed7ef7-0e59-444b-9ad7-814d2a4dc746",
   "metadata": {},
   "outputs": [],
   "source": [
    "players <- read_csv(\"data/players.csv\")\n",
    "sessions <- read_csv(\"data/sessions.csv\")"
   ]
  },
  {
   "cell_type": "code",
   "execution_count": null,
   "id": "300fe665-1842-45e4-b8e2-c455fcd69fe8",
   "metadata": {},
   "outputs": [],
   "source": [
    "mean_values <- players |>\n",
    "    summarise(across(where(is.numeric), mean, na.rm = TRUE))\n",
    "\n",
    "ggplot(pivot_longer(mean_values, cols = everything()), aes(x = name, y = value, fill = name)) +\n",
    "  geom_bar(stat = \"identity\") +\n",
    "  labs(title = \"Mean Values of Quantitative Variables in players.csv\", \n",
    "       x = \"Variable\", \n",
    "       y = \"Mean Value\")"
   ]
  },
  {
   "cell_type": "code",
   "execution_count": null,
   "id": "22eec3e7-3e39-4847-b02f-a4b3e79ba03b",
   "metadata": {},
   "outputs": [],
   "source": [
    "sessions <- sessions |>\n",
    "    mutate(start_time = dmy_hm(start_time))\n",
    "sessions <- sessions |>\n",
    "    mutate(hour = hour(start_time), day_of_week = wday(start_time))\n",
    "sessions <- drop_na(sessions, end_time)\n",
    "\n",
    "hourly_players <- sessions |>\n",
    "    group_by(hour) |>\n",
    "    summarise(player_count = n())\n",
    "daily_players <- sessions |>\n",
    "  group_by(day_of_week) |>\n",
    "  summarise(player_count = n())\n",
    "\n",
    "ggplot(hourly_players, aes(x = hour, y = player_count)) +\n",
    "    geom_line() +\n",
    "    geom_point() +\n",
    "    labs(title = \"Player Activity by Hour\", \n",
    "         x = \"Hour of Day\", \n",
    "         y = \"Number of Players\")\n",
    "\n",
    "ggplot(daily_players, aes(x = day_of_week, y = player_count, fill = day_of_week)) +\n",
    "  geom_bar(stat = \"identity\") +\n",
    "  labs(title = \"Player Activity by Day\",\n",
    "       x = \"Day of Week\",\n",
    "       y = \"Number of Players\")"
   ]
  },
  {
   "cell_type": "markdown",
   "id": "461385b6-83e0-4987-8796-a2f32c9352a3",
   "metadata": {},
   "source": [
    "<h2>4. Methods and Plan</h2>\n",
    "<h3>Proposed Method: Time Series Analysis & Regression</h3>\n",
    "<ul>\n",
    "    <li><strong>Why?</strong>\n",
    "        <ul>\n",
    "            <li>Time-based trends can be effectively captured using linear regression or moving averages.</li>\n",
    "            <li>Simple models provide interpretable insights into player behavior.</li>\n",
    "        </ul>\n",
    "    </li>\n",
    "    <li><strong>Assumptions:</strong>\n",
    "        <ul>\n",
    "            <li>Player activity follows consistent patterns over time.</li>\n",
    "            <li>Historical data is representative of future trends.</li>\n",
    "        </ul>\n",
    "    </li>\n",
    "    <li><strong>Potential Limitations:</strong>\n",
    "        <ul>\n",
    "            <li>Unexpected events such as promotions and server issues could disrupt patterns.</li>\n",
    "            <li>Requires sufficient historical data to make meaningful predictions.</li>\n",
    "        </ul>\n",
    "    </li>\n",
    "    <li><strong>Data Processing Plan:</strong>\n",
    "        <ul>\n",
    "            <li>Split data into training (80%) and testing (20%) sets.</li>\n",
    "            <li>Compare models using mean absolute error.</li>\n",
    "            <li>Use cross-validation to ensure robustness.</li>\n",
    "        </ul>\n",
    "    </li>\n",
    "</ul>"
   ]
  },
  {
   "cell_type": "code",
   "execution_count": null,
   "id": "00fd66f8-cf07-47a1-8bb5-1618eae3d151",
   "metadata": {},
   "outputs": [],
   "source": []
  }
 ],
 "metadata": {
  "kernelspec": {
   "display_name": "R",
   "language": "R",
   "name": "ir"
  },
  "language_info": {
   "codemirror_mode": "r",
   "file_extension": ".r",
   "mimetype": "text/x-r-source",
   "name": "R",
   "pygments_lexer": "r",
   "version": "4.3.3"
  }
 },
 "nbformat": 4,
 "nbformat_minor": 5
}
