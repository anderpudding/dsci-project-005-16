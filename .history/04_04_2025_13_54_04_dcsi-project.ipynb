{
 "cells": [
  {
   "cell_type": "markdown",
   "id": "29a61667-be6a-4cde-a731-e7e09c1c8b29",
   "metadata": {},
   "source": [
    "# Predicting Peak Player Activity: Optimizing Game Server Resources"
   ]
  },
  {
   "cell_type": "markdown",
   "id": "92311648-de61-4218-8177-f06cac024d8e",
   "metadata": {},
   "source": [
    "## Group Members: Sungjun Lee, Prima Cheung, Sayra Arij, Mishaa Murugathass"
   ]
  },
  {
   "cell_type": "markdown",
   "id": "4db82ba4-d1dd-4c23-b33d-832b2969c54d",
   "metadata": {},
   "source": [
    "## Introduction"
   ]
  },
  {
   "cell_type": "markdown",
   "id": "a308a21e-c114-493a-8dd6-4322c217bd91",
   "metadata": {},
   "source": [
    "Predicting player activity patterns is crucial for optimizing server resource allocation, reducing latency, and improving overall gameplay satisfaction. Studies have shown that load prediction services can anticipate future game world entity distributions from historical data, enabling more efficient resource provisioning. Additionally, analyzing player behavior and gaming patterns allows for smarter allocation of resources, as metrics such as peak usage times and session lengths play a crucial role in this process.\n",
    "\n",
    "This study aims to predict peak hours of player activity using historical session data from a video game research server. The dataset used in this project consists of two files: sessions.csv and players.csv. The focus of this report is on sessions.csv, which records play sessions from a video game research server. Key attributes include unique player identifiers, session start and end times, and Unix timestamp formats. However, potential issues such as missing end_time values, timestamp granularity, and data collection bias may affect analysis accuracy. The players.csv file provides additional information about the players themselves. It comprises 196 rows and 7 columns, including variables such as player experience, subscription status, total play hours, and demographic information.\n",
    "\n",
    "The question we are asking is: **Can we predict the peak hours of player activity using historical session data?** Understanding peak play hours enables server administrators to allocate resources efficiently, ensuring smooth gameplay experiences without overloading or underutilizing server capacity. By leveraging historical session data, this study aims to develop a predictive model to inform decision-making in server management and resource distribution.\n",
    "\n"
   ]
  },
  {
   "cell_type": "markdown",
   "id": "ff214d2f-84bf-4449-9bd9-2c1e195c87f9",
   "metadata": {},
   "source": [
    "## Methods & Results"
   ]
  },
  {
   "cell_type": "markdown",
   "id": "cdeaaca7-f757-4d36-a37c-24e55628b5b1",
   "metadata": {},
   "source": [
    "#### Load and Prepare Data"
   ]
  },
  {
   "cell_type": "code",
   "execution_count": null,
   "id": "d1a9392b-1f57-480f-94a9-70465df679c7",
   "metadata": {},
   "outputs": [],
   "source": [
    "library(tidyverse)\n",
    "\n",
    "sessions <- read_csv(\"https://raw.githubusercontent.com/anderpudding/dsci-project-005-16/refs/heads/main/data/sessions.csv\")"
   ]
  },
  {
   "cell_type": "markdown",
   "id": "f7a93da5-9228-4133-a328-07af961fc932",
   "metadata": {},
   "source": [
    "#### Wrangle and Tidy Data\n",
    "We were able to select the neccessary components of the data tables and make it into a tidy data table. The columns neccessary for the question are the start and stop times of each session, which allows us to calculate for the duration of each session."
   ]
  },
  {
   "cell_type": "code",
   "execution_count": null,
   "id": "adf9861a-2011-412e-9dcb-2498afa0f0ed",
   "metadata": {},
   "outputs": [],
   "source": [
    "sessions <- sessions |>\n",
    "    mutate(start_time = strptime(start_time, \"%d/%m/%Y %H:%M\"),\n",
    "        end_time = strptime(end_time, \"%d/%m/%Y %H:%M\"),\n",
    "        session_duration = as.numeric(difftime(end_time, start_time, units = \"mins\")))\n",
    "\n",
    "sessions"
   ]
  },
  {
   "cell_type": "markdown",
   "id": "e8febae4-171a-4630-9647-f2015ad94169",
   "metadata": {},
   "source": [
    "#### Summary Statistics\n",
    "This step allowed us to summarize the data needed. Since we are trying to determine the duration of played sessions, the best way to summarize this data is by determining the mean session duration. The mean number of player per hour was also determined in the same way."
   ]
  },
  {
   "cell_type": "code",
   "execution_count": null,
   "id": "49f5bd17-71e6-467f-98f1-f87277f75533",
   "metadata": {},
   "outputs": [],
   "source": [
    "summary_stats <- sessions |>\n",
    "    summarise(mean_session_duration = mean(session_duration, na.rm = TRUE),\n",
    "        mean_players_per_hour = n() / length(unique(format(start_time, \"%H\"))))\n",
    "\n",
    "summary_stats"
   ]
  },
  {
   "cell_type": "markdown",
   "id": "1506c330-9ce5-4f54-bc3f-9cd94e4dfccb",
   "metadata": {},
   "source": [
    "#### Extract Time Features\n",
    "We then needed to find the time stamps of which there are the most number of players active. This was done by grouping the start times of each session. These session times were recorded by the hour of the day and day ofhte week."
   ]
  },
  {
   "cell_type": "code",
   "execution_count": null,
   "id": "10fab234-c72d-4979-858f-c457ea78c26e",
   "metadata": {},
   "outputs": [],
   "source": [
    "sessions <- sessions |>\n",
    "    mutate(hour = as.numeric(format(start_time, \"%H\")),\n",
    "        day_of_week = weekdays(as.Date(start_time)))"
   ]
  },
  {
   "cell_type": "markdown",
   "id": "216ef7de-fdae-4730-8a51-0ffc34d185cc",
   "metadata": {},
   "source": [
    "#### Visualization 1: Player Activity by Hour\n",
    "The below plot tells us how many players started at certain times of the day. This was done by grouping each recorded session by their start time of each day (which is the \"hour\" column made above) and determining the number of players who logged on at that time. This step was done using the group_by + summairze functions. The created dataset was then made into a line plot using ggplot. A line plot was chosen for this dataset because the number of players on the game is continuous over the suggested time range."
   ]
  },
  {
   "cell_type": "code",
   "execution_count": null,
   "id": "6cb8d267-1a19-4d98-adca-e903d27a6171",
   "metadata": {},
   "outputs": [],
   "source": [
    "hourly_counts <- sessions |> \n",
    "    group_by(hour) |> \n",
    "    summarise(player_count = n())\n",
    "\n",
    "ggplot(hourly_counts, aes(x = hour, y = player_count)) +\n",
    "    geom_line() +\n",
    "    geom_point() +\n",
    "    labs(title = \"Figure 1: Player Activity by Hour\", x = \"Hour of Day\", y = \"Number of Sessions\")"
   ]
  },
  {
   "cell_type": "markdown",
   "id": "4a75e27d-1221-4e7d-bbde-c215f3216702",
   "metadata": {},
   "source": [
    "#### Visualization 2: Player Activity by Day of Week\n",
    "After determining the number of players by the hour, it is also essential to consider how the day of the week will affect the number of players active. Using a similar group_by + summarize approach, the number of players for each day of the week can be determined. Using ggplot, a bar plot was made to show the player activity by days of the week. A bar plot was chosen for this data analysis because player activity is not a continuous variable over each day of the week (the number of players for each day of the week is independent of each other)."
   ]
  },
  {
   "cell_type": "code",
   "execution_count": null,
   "id": "1d8b4d65-75dd-415c-b7dc-26b171a227d2",
   "metadata": {},
   "outputs": [],
   "source": [
    "daily_counts <- sessions |> \n",
    "    group_by(day_of_week) |> \n",
    "    summarise(player_count = n())\n",
    "\n",
    "ggplot(daily_counts, aes(x = day_of_week, y = player_count, fill = day_of_week)) +\n",
    "    geom_bar(stat = \"identity\") +\n",
    "    labs(title = \"Figure 2: Player Activity by Day of Week\", x = \"Day\", y = \"Number of Sessions\", fill = \"Day of the Week\")"
   ]
  },
  {
   "cell_type": "markdown",
   "id": "3ab9f96a-2741-4769-b496-8d61873b094d",
   "metadata": {},
   "source": [
    "## Discussion"
   ]
  },
  {
   "cell_type": "markdown",
   "id": "956ebe17-50f0-4ab8-82c8-986a2ee4d397",
   "metadata": {},
   "source": [
    "From the analysis, we have found meaningful trends to help our study predict the peak hours. From the historical data, it reveals that the player's activity rises significantly after 1AM and then drops substantially before 5AM. From figure 1, it is evident that the lowest number of sessions happens in the afternoon and then slowly increases again after 2PM. Given that between those hours, most people are either busy with school or work. This pattern is further proved with figure 2, due to the number of sessions being the highest on Saturdays, followed by Sundays. \n",
    "\n",
    "These findings were expected as it follows the periods of time where people are free and able to do their leisure activities. It was more expected to see the peak hours of the number of sessions to be during the evenings. Therefore, it was a little surprising for the number of sessions to be highest around midnight. Although it confirmed our predictions on the weekends to have the highest number of sessions. \n",
    "\n",
    "This informs us that weekends and times around midnight is where we need to ensure that the number of licenses on hand is sufficiently large to accommodate that nearly all players can connect and play without disruption. By focusing on past data, we now have more information to have more smoother games during the busiest times. The implications of these findings can further help us to optimize resource allocation, reduce server lag, and improve the overall player experience by being better prepared for peak demand.\n",
    "\n",
    "Future questions that may arise from our found data may be: How does specific player demographics (e.g., experience level or subscription status) further influence peak times? What role does social behavior (e.g., playing with friends or in teams) play in peak times? By looking at additional reasons that may affect peak hours is a route that may be helpful to better understand player habits."
   ]
  },
  {
   "cell_type": "code",
   "execution_count": null,
   "id": "d62caade-cfb1-4f72-a5fd-59002f510697",
   "metadata": {},
   "outputs": [],
   "source": []
  }
 ],
 "metadata": {
  "kernelspec": {
   "display_name": "R",
   "language": "R",
   "name": "ir"
  },
  "language_info": {
   "codemirror_mode": "r",
   "file_extension": ".r",
   "mimetype": "text/x-r-source",
   "name": "R",
   "pygments_lexer": "r",
   "version": "4.3.3"
  }
 },
 "nbformat": 4,
 "nbformat_minor": 5
}
